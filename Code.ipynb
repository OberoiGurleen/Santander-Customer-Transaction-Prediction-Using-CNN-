{
 "cells": [
  {
   "cell_type": "markdown",
   "metadata": {},
   "source": [
    "# Load Packages"
   ]
  },
  {
   "cell_type": "code",
   "execution_count": 1,
   "metadata": {},
   "outputs": [],
   "source": [
    "import numpy as np\n",
    "import pandas as pd\n",
    "from sklearn.preprocessing import StandardScaler\n",
    "from sklearn.model_selection import KFold, StratifiedKFold"
   ]
  },
  {
   "cell_type": "code",
   "execution_count": 2,
   "metadata": {},
   "outputs": [],
   "source": [
    "from sklearn.model_selection import KFold, train_test_split\n",
    "from sklearn.metrics import roc_curve, roc_auc_score, auc, confusion_matrix, classification_report\n",
    "from sklearn.linear_model import LogisticRegression\n",
    "from sklearn.tree import DecisionTreeClassifier\n",
    "from sklearn.ensemble import RandomForestClassifier\n",
    "import seaborn as sns"
   ]
  },
  {
   "cell_type": "markdown",
   "metadata": {},
   "source": [
    "# Read Data"
   ]
  },
  {
   "cell_type": "code",
   "execution_count": 3,
   "metadata": {},
   "outputs": [],
   "source": [
    "data = pd.read_csv('train.csv')"
   ]
  },
  {
   "cell_type": "code",
   "execution_count": 4,
   "metadata": {},
   "outputs": [
    {
     "data": {
      "text/html": [
       "<div>\n",
       "<style scoped>\n",
       "    .dataframe tbody tr th:only-of-type {\n",
       "        vertical-align: middle;\n",
       "    }\n",
       "\n",
       "    .dataframe tbody tr th {\n",
       "        vertical-align: top;\n",
       "    }\n",
       "\n",
       "    .dataframe thead th {\n",
       "        text-align: right;\n",
       "    }\n",
       "</style>\n",
       "<table border=\"1\" class=\"dataframe\">\n",
       "  <thead>\n",
       "    <tr style=\"text-align: right;\">\n",
       "      <th></th>\n",
       "      <th>ID_code</th>\n",
       "      <th>target</th>\n",
       "      <th>var_0</th>\n",
       "      <th>var_1</th>\n",
       "      <th>var_2</th>\n",
       "      <th>var_3</th>\n",
       "      <th>var_4</th>\n",
       "      <th>var_5</th>\n",
       "      <th>var_6</th>\n",
       "      <th>var_7</th>\n",
       "      <th>...</th>\n",
       "      <th>var_190</th>\n",
       "      <th>var_191</th>\n",
       "      <th>var_192</th>\n",
       "      <th>var_193</th>\n",
       "      <th>var_194</th>\n",
       "      <th>var_195</th>\n",
       "      <th>var_196</th>\n",
       "      <th>var_197</th>\n",
       "      <th>var_198</th>\n",
       "      <th>var_199</th>\n",
       "    </tr>\n",
       "  </thead>\n",
       "  <tbody>\n",
       "    <tr>\n",
       "      <th>0</th>\n",
       "      <td>train_0</td>\n",
       "      <td>0</td>\n",
       "      <td>8.9255</td>\n",
       "      <td>-6.7863</td>\n",
       "      <td>11.9081</td>\n",
       "      <td>5.0930</td>\n",
       "      <td>11.4607</td>\n",
       "      <td>-9.2834</td>\n",
       "      <td>5.1187</td>\n",
       "      <td>18.6266</td>\n",
       "      <td>...</td>\n",
       "      <td>4.4354</td>\n",
       "      <td>3.9642</td>\n",
       "      <td>3.1364</td>\n",
       "      <td>1.6910</td>\n",
       "      <td>18.5227</td>\n",
       "      <td>-2.3978</td>\n",
       "      <td>7.8784</td>\n",
       "      <td>8.5635</td>\n",
       "      <td>12.7803</td>\n",
       "      <td>-1.0914</td>\n",
       "    </tr>\n",
       "    <tr>\n",
       "      <th>1</th>\n",
       "      <td>train_1</td>\n",
       "      <td>0</td>\n",
       "      <td>11.5006</td>\n",
       "      <td>-4.1473</td>\n",
       "      <td>13.8588</td>\n",
       "      <td>5.3890</td>\n",
       "      <td>12.3622</td>\n",
       "      <td>7.0433</td>\n",
       "      <td>5.6208</td>\n",
       "      <td>16.5338</td>\n",
       "      <td>...</td>\n",
       "      <td>7.6421</td>\n",
       "      <td>7.7214</td>\n",
       "      <td>2.5837</td>\n",
       "      <td>10.9516</td>\n",
       "      <td>15.4305</td>\n",
       "      <td>2.0339</td>\n",
       "      <td>8.1267</td>\n",
       "      <td>8.7889</td>\n",
       "      <td>18.3560</td>\n",
       "      <td>1.9518</td>\n",
       "    </tr>\n",
       "    <tr>\n",
       "      <th>2</th>\n",
       "      <td>train_2</td>\n",
       "      <td>0</td>\n",
       "      <td>8.6093</td>\n",
       "      <td>-2.7457</td>\n",
       "      <td>12.0805</td>\n",
       "      <td>7.8928</td>\n",
       "      <td>10.5825</td>\n",
       "      <td>-9.0837</td>\n",
       "      <td>6.9427</td>\n",
       "      <td>14.6155</td>\n",
       "      <td>...</td>\n",
       "      <td>2.9057</td>\n",
       "      <td>9.7905</td>\n",
       "      <td>1.6704</td>\n",
       "      <td>1.6858</td>\n",
       "      <td>21.6042</td>\n",
       "      <td>3.1417</td>\n",
       "      <td>-6.5213</td>\n",
       "      <td>8.2675</td>\n",
       "      <td>14.7222</td>\n",
       "      <td>0.3965</td>\n",
       "    </tr>\n",
       "    <tr>\n",
       "      <th>3</th>\n",
       "      <td>train_3</td>\n",
       "      <td>0</td>\n",
       "      <td>11.0604</td>\n",
       "      <td>-2.1518</td>\n",
       "      <td>8.9522</td>\n",
       "      <td>7.1957</td>\n",
       "      <td>12.5846</td>\n",
       "      <td>-1.8361</td>\n",
       "      <td>5.8428</td>\n",
       "      <td>14.9250</td>\n",
       "      <td>...</td>\n",
       "      <td>4.4666</td>\n",
       "      <td>4.7433</td>\n",
       "      <td>0.7178</td>\n",
       "      <td>1.4214</td>\n",
       "      <td>23.0347</td>\n",
       "      <td>-1.2706</td>\n",
       "      <td>-2.9275</td>\n",
       "      <td>10.2922</td>\n",
       "      <td>17.9697</td>\n",
       "      <td>-8.9996</td>\n",
       "    </tr>\n",
       "    <tr>\n",
       "      <th>4</th>\n",
       "      <td>train_4</td>\n",
       "      <td>0</td>\n",
       "      <td>9.8369</td>\n",
       "      <td>-1.4834</td>\n",
       "      <td>12.8746</td>\n",
       "      <td>6.6375</td>\n",
       "      <td>12.2772</td>\n",
       "      <td>2.4486</td>\n",
       "      <td>5.9405</td>\n",
       "      <td>19.2514</td>\n",
       "      <td>...</td>\n",
       "      <td>-1.4905</td>\n",
       "      <td>9.5214</td>\n",
       "      <td>-0.1508</td>\n",
       "      <td>9.1942</td>\n",
       "      <td>13.2876</td>\n",
       "      <td>-1.5121</td>\n",
       "      <td>3.9267</td>\n",
       "      <td>9.5031</td>\n",
       "      <td>17.9974</td>\n",
       "      <td>-8.8104</td>\n",
       "    </tr>\n",
       "    <tr>\n",
       "      <th>...</th>\n",
       "      <td>...</td>\n",
       "      <td>...</td>\n",
       "      <td>...</td>\n",
       "      <td>...</td>\n",
       "      <td>...</td>\n",
       "      <td>...</td>\n",
       "      <td>...</td>\n",
       "      <td>...</td>\n",
       "      <td>...</td>\n",
       "      <td>...</td>\n",
       "      <td>...</td>\n",
       "      <td>...</td>\n",
       "      <td>...</td>\n",
       "      <td>...</td>\n",
       "      <td>...</td>\n",
       "      <td>...</td>\n",
       "      <td>...</td>\n",
       "      <td>...</td>\n",
       "      <td>...</td>\n",
       "      <td>...</td>\n",
       "      <td>...</td>\n",
       "    </tr>\n",
       "    <tr>\n",
       "      <th>199995</th>\n",
       "      <td>train_199995</td>\n",
       "      <td>0</td>\n",
       "      <td>11.4880</td>\n",
       "      <td>-0.4956</td>\n",
       "      <td>8.2622</td>\n",
       "      <td>3.5142</td>\n",
       "      <td>10.3404</td>\n",
       "      <td>11.6081</td>\n",
       "      <td>5.6709</td>\n",
       "      <td>15.1516</td>\n",
       "      <td>...</td>\n",
       "      <td>6.1415</td>\n",
       "      <td>13.2305</td>\n",
       "      <td>3.9901</td>\n",
       "      <td>0.9388</td>\n",
       "      <td>18.0249</td>\n",
       "      <td>-1.7939</td>\n",
       "      <td>2.1661</td>\n",
       "      <td>8.5326</td>\n",
       "      <td>16.6660</td>\n",
       "      <td>-17.8661</td>\n",
       "    </tr>\n",
       "    <tr>\n",
       "      <th>199996</th>\n",
       "      <td>train_199996</td>\n",
       "      <td>0</td>\n",
       "      <td>4.9149</td>\n",
       "      <td>-2.4484</td>\n",
       "      <td>16.7052</td>\n",
       "      <td>6.6345</td>\n",
       "      <td>8.3096</td>\n",
       "      <td>-10.5628</td>\n",
       "      <td>5.8802</td>\n",
       "      <td>21.5940</td>\n",
       "      <td>...</td>\n",
       "      <td>4.9611</td>\n",
       "      <td>4.6549</td>\n",
       "      <td>0.6998</td>\n",
       "      <td>1.8341</td>\n",
       "      <td>22.2717</td>\n",
       "      <td>1.7337</td>\n",
       "      <td>-2.1651</td>\n",
       "      <td>6.7419</td>\n",
       "      <td>15.9054</td>\n",
       "      <td>0.3388</td>\n",
       "    </tr>\n",
       "    <tr>\n",
       "      <th>199997</th>\n",
       "      <td>train_199997</td>\n",
       "      <td>0</td>\n",
       "      <td>11.2232</td>\n",
       "      <td>-5.0518</td>\n",
       "      <td>10.5127</td>\n",
       "      <td>5.6456</td>\n",
       "      <td>9.3410</td>\n",
       "      <td>-5.4086</td>\n",
       "      <td>4.5555</td>\n",
       "      <td>21.5571</td>\n",
       "      <td>...</td>\n",
       "      <td>4.0651</td>\n",
       "      <td>5.4414</td>\n",
       "      <td>3.1032</td>\n",
       "      <td>4.8793</td>\n",
       "      <td>23.5311</td>\n",
       "      <td>-1.5736</td>\n",
       "      <td>1.2832</td>\n",
       "      <td>8.7155</td>\n",
       "      <td>13.8329</td>\n",
       "      <td>4.1995</td>\n",
       "    </tr>\n",
       "    <tr>\n",
       "      <th>199998</th>\n",
       "      <td>train_199998</td>\n",
       "      <td>0</td>\n",
       "      <td>9.7148</td>\n",
       "      <td>-8.6098</td>\n",
       "      <td>13.6104</td>\n",
       "      <td>5.7930</td>\n",
       "      <td>12.5173</td>\n",
       "      <td>0.5339</td>\n",
       "      <td>6.0479</td>\n",
       "      <td>17.0152</td>\n",
       "      <td>...</td>\n",
       "      <td>2.6840</td>\n",
       "      <td>8.6587</td>\n",
       "      <td>2.7337</td>\n",
       "      <td>11.1178</td>\n",
       "      <td>20.4158</td>\n",
       "      <td>-0.0786</td>\n",
       "      <td>6.7980</td>\n",
       "      <td>10.0342</td>\n",
       "      <td>15.5289</td>\n",
       "      <td>-13.9001</td>\n",
       "    </tr>\n",
       "    <tr>\n",
       "      <th>199999</th>\n",
       "      <td>train_199999</td>\n",
       "      <td>0</td>\n",
       "      <td>10.8762</td>\n",
       "      <td>-5.7105</td>\n",
       "      <td>12.1183</td>\n",
       "      <td>8.0328</td>\n",
       "      <td>11.5577</td>\n",
       "      <td>0.3488</td>\n",
       "      <td>5.2839</td>\n",
       "      <td>15.2058</td>\n",
       "      <td>...</td>\n",
       "      <td>8.9842</td>\n",
       "      <td>1.6893</td>\n",
       "      <td>0.1276</td>\n",
       "      <td>0.3766</td>\n",
       "      <td>15.2101</td>\n",
       "      <td>-2.4907</td>\n",
       "      <td>-2.2342</td>\n",
       "      <td>8.1857</td>\n",
       "      <td>12.1284</td>\n",
       "      <td>0.1385</td>\n",
       "    </tr>\n",
       "  </tbody>\n",
       "</table>\n",
       "<p>200000 rows × 202 columns</p>\n",
       "</div>"
      ],
      "text/plain": [
       "             ID_code  target    var_0   var_1    var_2   var_3    var_4  \\\n",
       "0            train_0       0   8.9255 -6.7863  11.9081  5.0930  11.4607   \n",
       "1            train_1       0  11.5006 -4.1473  13.8588  5.3890  12.3622   \n",
       "2            train_2       0   8.6093 -2.7457  12.0805  7.8928  10.5825   \n",
       "3            train_3       0  11.0604 -2.1518   8.9522  7.1957  12.5846   \n",
       "4            train_4       0   9.8369 -1.4834  12.8746  6.6375  12.2772   \n",
       "...              ...     ...      ...     ...      ...     ...      ...   \n",
       "199995  train_199995       0  11.4880 -0.4956   8.2622  3.5142  10.3404   \n",
       "199996  train_199996       0   4.9149 -2.4484  16.7052  6.6345   8.3096   \n",
       "199997  train_199997       0  11.2232 -5.0518  10.5127  5.6456   9.3410   \n",
       "199998  train_199998       0   9.7148 -8.6098  13.6104  5.7930  12.5173   \n",
       "199999  train_199999       0  10.8762 -5.7105  12.1183  8.0328  11.5577   \n",
       "\n",
       "          var_5   var_6    var_7  ...  var_190  var_191  var_192  var_193  \\\n",
       "0       -9.2834  5.1187  18.6266  ...   4.4354   3.9642   3.1364   1.6910   \n",
       "1        7.0433  5.6208  16.5338  ...   7.6421   7.7214   2.5837  10.9516   \n",
       "2       -9.0837  6.9427  14.6155  ...   2.9057   9.7905   1.6704   1.6858   \n",
       "3       -1.8361  5.8428  14.9250  ...   4.4666   4.7433   0.7178   1.4214   \n",
       "4        2.4486  5.9405  19.2514  ...  -1.4905   9.5214  -0.1508   9.1942   \n",
       "...         ...     ...      ...  ...      ...      ...      ...      ...   \n",
       "199995  11.6081  5.6709  15.1516  ...   6.1415  13.2305   3.9901   0.9388   \n",
       "199996 -10.5628  5.8802  21.5940  ...   4.9611   4.6549   0.6998   1.8341   \n",
       "199997  -5.4086  4.5555  21.5571  ...   4.0651   5.4414   3.1032   4.8793   \n",
       "199998   0.5339  6.0479  17.0152  ...   2.6840   8.6587   2.7337  11.1178   \n",
       "199999   0.3488  5.2839  15.2058  ...   8.9842   1.6893   0.1276   0.3766   \n",
       "\n",
       "        var_194  var_195  var_196  var_197  var_198  var_199  \n",
       "0       18.5227  -2.3978   7.8784   8.5635  12.7803  -1.0914  \n",
       "1       15.4305   2.0339   8.1267   8.7889  18.3560   1.9518  \n",
       "2       21.6042   3.1417  -6.5213   8.2675  14.7222   0.3965  \n",
       "3       23.0347  -1.2706  -2.9275  10.2922  17.9697  -8.9996  \n",
       "4       13.2876  -1.5121   3.9267   9.5031  17.9974  -8.8104  \n",
       "...         ...      ...      ...      ...      ...      ...  \n",
       "199995  18.0249  -1.7939   2.1661   8.5326  16.6660 -17.8661  \n",
       "199996  22.2717   1.7337  -2.1651   6.7419  15.9054   0.3388  \n",
       "199997  23.5311  -1.5736   1.2832   8.7155  13.8329   4.1995  \n",
       "199998  20.4158  -0.0786   6.7980  10.0342  15.5289 -13.9001  \n",
       "199999  15.2101  -2.4907  -2.2342   8.1857  12.1284   0.1385  \n",
       "\n",
       "[200000 rows x 202 columns]"
      ]
     },
     "execution_count": 4,
     "metadata": {},
     "output_type": "execute_result"
    }
   ],
   "source": [
    "data"
   ]
  },
  {
   "cell_type": "code",
   "execution_count": 4,
   "metadata": {},
   "outputs": [],
   "source": [
    "data.drop(['ID_code'], axis=1, inplace=True)  # dropping ID_code column from dataset"
   ]
  },
  {
   "cell_type": "markdown",
   "metadata": {},
   "source": [
    "# Exploratory Data Analysis"
   ]
  },
  {
   "cell_type": "code",
   "execution_count": 6,
   "metadata": {},
   "outputs": [
    {
     "data": {
      "text/html": [
       "<div>\n",
       "<style scoped>\n",
       "    .dataframe tbody tr th:only-of-type {\n",
       "        vertical-align: middle;\n",
       "    }\n",
       "\n",
       "    .dataframe tbody tr th {\n",
       "        vertical-align: top;\n",
       "    }\n",
       "\n",
       "    .dataframe thead th {\n",
       "        text-align: right;\n",
       "    }\n",
       "</style>\n",
       "<table border=\"1\" class=\"dataframe\">\n",
       "  <thead>\n",
       "    <tr style=\"text-align: right;\">\n",
       "      <th></th>\n",
       "      <th>target</th>\n",
       "      <th>var_0</th>\n",
       "      <th>var_1</th>\n",
       "      <th>var_2</th>\n",
       "      <th>var_3</th>\n",
       "      <th>var_4</th>\n",
       "      <th>var_5</th>\n",
       "      <th>var_6</th>\n",
       "      <th>var_7</th>\n",
       "      <th>var_8</th>\n",
       "      <th>...</th>\n",
       "      <th>var_190</th>\n",
       "      <th>var_191</th>\n",
       "      <th>var_192</th>\n",
       "      <th>var_193</th>\n",
       "      <th>var_194</th>\n",
       "      <th>var_195</th>\n",
       "      <th>var_196</th>\n",
       "      <th>var_197</th>\n",
       "      <th>var_198</th>\n",
       "      <th>var_199</th>\n",
       "    </tr>\n",
       "  </thead>\n",
       "  <tbody>\n",
       "    <tr>\n",
       "      <th>count</th>\n",
       "      <td>200000.000000</td>\n",
       "      <td>200000.000000</td>\n",
       "      <td>200000.000000</td>\n",
       "      <td>200000.000000</td>\n",
       "      <td>200000.000000</td>\n",
       "      <td>200000.000000</td>\n",
       "      <td>200000.000000</td>\n",
       "      <td>200000.000000</td>\n",
       "      <td>200000.000000</td>\n",
       "      <td>200000.000000</td>\n",
       "      <td>...</td>\n",
       "      <td>200000.000000</td>\n",
       "      <td>200000.000000</td>\n",
       "      <td>200000.000000</td>\n",
       "      <td>200000.000000</td>\n",
       "      <td>200000.000000</td>\n",
       "      <td>200000.000000</td>\n",
       "      <td>200000.000000</td>\n",
       "      <td>200000.000000</td>\n",
       "      <td>200000.000000</td>\n",
       "      <td>200000.000000</td>\n",
       "    </tr>\n",
       "    <tr>\n",
       "      <th>mean</th>\n",
       "      <td>0.100490</td>\n",
       "      <td>10.679914</td>\n",
       "      <td>-1.627622</td>\n",
       "      <td>10.715192</td>\n",
       "      <td>6.796529</td>\n",
       "      <td>11.078333</td>\n",
       "      <td>-5.065317</td>\n",
       "      <td>5.408949</td>\n",
       "      <td>16.545850</td>\n",
       "      <td>0.284162</td>\n",
       "      <td>...</td>\n",
       "      <td>3.234440</td>\n",
       "      <td>7.438408</td>\n",
       "      <td>1.927839</td>\n",
       "      <td>3.331774</td>\n",
       "      <td>17.993784</td>\n",
       "      <td>-0.142088</td>\n",
       "      <td>2.303335</td>\n",
       "      <td>8.908158</td>\n",
       "      <td>15.870720</td>\n",
       "      <td>-3.326537</td>\n",
       "    </tr>\n",
       "    <tr>\n",
       "      <th>std</th>\n",
       "      <td>0.300653</td>\n",
       "      <td>3.040051</td>\n",
       "      <td>4.050044</td>\n",
       "      <td>2.640894</td>\n",
       "      <td>2.043319</td>\n",
       "      <td>1.623150</td>\n",
       "      <td>7.863267</td>\n",
       "      <td>0.866607</td>\n",
       "      <td>3.418076</td>\n",
       "      <td>3.332634</td>\n",
       "      <td>...</td>\n",
       "      <td>4.559922</td>\n",
       "      <td>3.023272</td>\n",
       "      <td>1.478423</td>\n",
       "      <td>3.992030</td>\n",
       "      <td>3.135162</td>\n",
       "      <td>1.429372</td>\n",
       "      <td>5.454369</td>\n",
       "      <td>0.921625</td>\n",
       "      <td>3.010945</td>\n",
       "      <td>10.438015</td>\n",
       "    </tr>\n",
       "    <tr>\n",
       "      <th>min</th>\n",
       "      <td>0.000000</td>\n",
       "      <td>0.408400</td>\n",
       "      <td>-15.043400</td>\n",
       "      <td>2.117100</td>\n",
       "      <td>-0.040200</td>\n",
       "      <td>5.074800</td>\n",
       "      <td>-32.562600</td>\n",
       "      <td>2.347300</td>\n",
       "      <td>5.349700</td>\n",
       "      <td>-10.505500</td>\n",
       "      <td>...</td>\n",
       "      <td>-14.093300</td>\n",
       "      <td>-2.691700</td>\n",
       "      <td>-3.814500</td>\n",
       "      <td>-11.783400</td>\n",
       "      <td>8.694400</td>\n",
       "      <td>-5.261000</td>\n",
       "      <td>-14.209600</td>\n",
       "      <td>5.960600</td>\n",
       "      <td>6.299300</td>\n",
       "      <td>-38.852800</td>\n",
       "    </tr>\n",
       "    <tr>\n",
       "      <th>25%</th>\n",
       "      <td>0.000000</td>\n",
       "      <td>8.453850</td>\n",
       "      <td>-4.740025</td>\n",
       "      <td>8.722475</td>\n",
       "      <td>5.254075</td>\n",
       "      <td>9.883175</td>\n",
       "      <td>-11.200350</td>\n",
       "      <td>4.767700</td>\n",
       "      <td>13.943800</td>\n",
       "      <td>-2.317800</td>\n",
       "      <td>...</td>\n",
       "      <td>-0.058825</td>\n",
       "      <td>5.157400</td>\n",
       "      <td>0.889775</td>\n",
       "      <td>0.584600</td>\n",
       "      <td>15.629800</td>\n",
       "      <td>-1.170700</td>\n",
       "      <td>-1.946925</td>\n",
       "      <td>8.252800</td>\n",
       "      <td>13.829700</td>\n",
       "      <td>-11.208475</td>\n",
       "    </tr>\n",
       "    <tr>\n",
       "      <th>50%</th>\n",
       "      <td>0.000000</td>\n",
       "      <td>10.524750</td>\n",
       "      <td>-1.608050</td>\n",
       "      <td>10.580000</td>\n",
       "      <td>6.825000</td>\n",
       "      <td>11.108250</td>\n",
       "      <td>-4.833150</td>\n",
       "      <td>5.385100</td>\n",
       "      <td>16.456800</td>\n",
       "      <td>0.393700</td>\n",
       "      <td>...</td>\n",
       "      <td>3.203600</td>\n",
       "      <td>7.347750</td>\n",
       "      <td>1.901300</td>\n",
       "      <td>3.396350</td>\n",
       "      <td>17.957950</td>\n",
       "      <td>-0.172700</td>\n",
       "      <td>2.408900</td>\n",
       "      <td>8.888200</td>\n",
       "      <td>15.934050</td>\n",
       "      <td>-2.819550</td>\n",
       "    </tr>\n",
       "    <tr>\n",
       "      <th>75%</th>\n",
       "      <td>0.000000</td>\n",
       "      <td>12.758200</td>\n",
       "      <td>1.358625</td>\n",
       "      <td>12.516700</td>\n",
       "      <td>8.324100</td>\n",
       "      <td>12.261125</td>\n",
       "      <td>0.924800</td>\n",
       "      <td>6.003000</td>\n",
       "      <td>19.102900</td>\n",
       "      <td>2.937900</td>\n",
       "      <td>...</td>\n",
       "      <td>6.406200</td>\n",
       "      <td>9.512525</td>\n",
       "      <td>2.949500</td>\n",
       "      <td>6.205800</td>\n",
       "      <td>20.396525</td>\n",
       "      <td>0.829600</td>\n",
       "      <td>6.556725</td>\n",
       "      <td>9.593300</td>\n",
       "      <td>18.064725</td>\n",
       "      <td>4.836800</td>\n",
       "    </tr>\n",
       "    <tr>\n",
       "      <th>max</th>\n",
       "      <td>1.000000</td>\n",
       "      <td>20.315000</td>\n",
       "      <td>10.376800</td>\n",
       "      <td>19.353000</td>\n",
       "      <td>13.188300</td>\n",
       "      <td>16.671400</td>\n",
       "      <td>17.251600</td>\n",
       "      <td>8.447700</td>\n",
       "      <td>27.691800</td>\n",
       "      <td>10.151300</td>\n",
       "      <td>...</td>\n",
       "      <td>18.440900</td>\n",
       "      <td>16.716500</td>\n",
       "      <td>8.402400</td>\n",
       "      <td>18.281800</td>\n",
       "      <td>27.928800</td>\n",
       "      <td>4.272900</td>\n",
       "      <td>18.321500</td>\n",
       "      <td>12.000400</td>\n",
       "      <td>26.079100</td>\n",
       "      <td>28.500700</td>\n",
       "    </tr>\n",
       "  </tbody>\n",
       "</table>\n",
       "<p>8 rows × 201 columns</p>\n",
       "</div>"
      ],
      "text/plain": [
       "              target          var_0          var_1          var_2  \\\n",
       "count  200000.000000  200000.000000  200000.000000  200000.000000   \n",
       "mean        0.100490      10.679914      -1.627622      10.715192   \n",
       "std         0.300653       3.040051       4.050044       2.640894   \n",
       "min         0.000000       0.408400     -15.043400       2.117100   \n",
       "25%         0.000000       8.453850      -4.740025       8.722475   \n",
       "50%         0.000000      10.524750      -1.608050      10.580000   \n",
       "75%         0.000000      12.758200       1.358625      12.516700   \n",
       "max         1.000000      20.315000      10.376800      19.353000   \n",
       "\n",
       "               var_3          var_4          var_5          var_6  \\\n",
       "count  200000.000000  200000.000000  200000.000000  200000.000000   \n",
       "mean        6.796529      11.078333      -5.065317       5.408949   \n",
       "std         2.043319       1.623150       7.863267       0.866607   \n",
       "min        -0.040200       5.074800     -32.562600       2.347300   \n",
       "25%         5.254075       9.883175     -11.200350       4.767700   \n",
       "50%         6.825000      11.108250      -4.833150       5.385100   \n",
       "75%         8.324100      12.261125       0.924800       6.003000   \n",
       "max        13.188300      16.671400      17.251600       8.447700   \n",
       "\n",
       "               var_7          var_8  ...        var_190        var_191  \\\n",
       "count  200000.000000  200000.000000  ...  200000.000000  200000.000000   \n",
       "mean       16.545850       0.284162  ...       3.234440       7.438408   \n",
       "std         3.418076       3.332634  ...       4.559922       3.023272   \n",
       "min         5.349700     -10.505500  ...     -14.093300      -2.691700   \n",
       "25%        13.943800      -2.317800  ...      -0.058825       5.157400   \n",
       "50%        16.456800       0.393700  ...       3.203600       7.347750   \n",
       "75%        19.102900       2.937900  ...       6.406200       9.512525   \n",
       "max        27.691800      10.151300  ...      18.440900      16.716500   \n",
       "\n",
       "             var_192        var_193        var_194        var_195  \\\n",
       "count  200000.000000  200000.000000  200000.000000  200000.000000   \n",
       "mean        1.927839       3.331774      17.993784      -0.142088   \n",
       "std         1.478423       3.992030       3.135162       1.429372   \n",
       "min        -3.814500     -11.783400       8.694400      -5.261000   \n",
       "25%         0.889775       0.584600      15.629800      -1.170700   \n",
       "50%         1.901300       3.396350      17.957950      -0.172700   \n",
       "75%         2.949500       6.205800      20.396525       0.829600   \n",
       "max         8.402400      18.281800      27.928800       4.272900   \n",
       "\n",
       "             var_196        var_197        var_198        var_199  \n",
       "count  200000.000000  200000.000000  200000.000000  200000.000000  \n",
       "mean        2.303335       8.908158      15.870720      -3.326537  \n",
       "std         5.454369       0.921625       3.010945      10.438015  \n",
       "min       -14.209600       5.960600       6.299300     -38.852800  \n",
       "25%        -1.946925       8.252800      13.829700     -11.208475  \n",
       "50%         2.408900       8.888200      15.934050      -2.819550  \n",
       "75%         6.556725       9.593300      18.064725       4.836800  \n",
       "max        18.321500      12.000400      26.079100      28.500700  \n",
       "\n",
       "[8 rows x 201 columns]"
      ]
     },
     "execution_count": 6,
     "metadata": {},
     "output_type": "execute_result"
    }
   ],
   "source": [
    "data.describe() # generating descriptive statistics"
   ]
  },
  {
   "cell_type": "markdown",
   "metadata": {},
   "source": [
    "Observations:\n",
    "\n",
    "The dataset's standard deviation is quite significant.\n",
    "The values of min, max, mean, and sdt for dataset appear to be pretty similar.\n",
    "The mean values are spread out over a wide range."
   ]
  },
  {
   "cell_type": "code",
   "execution_count": 7,
   "metadata": {},
   "outputs": [
    {
     "data": {
      "text/plain": [
       "0"
      ]
     },
     "execution_count": 7,
     "metadata": {},
     "output_type": "execute_result"
    }
   ],
   "source": [
    "data.isnull().values.sum() # checking for null vlaues in the dataset"
   ]
  },
  {
   "cell_type": "code",
   "execution_count": 8,
   "metadata": {},
   "outputs": [
    {
     "name": "stdout",
     "output_type": "stream",
     "text": [
      "Total number of unique values in var_0 : 94672\n",
      "Total number of unique values in var_1 : 108932\n",
      "Total number of unique values in var_2 : 86555\n",
      "Total number of unique values in var_3 : 74597\n",
      "Total number of unique values in var_4 : 63515\n",
      "Total number of unique values in var_5 : 141029\n",
      "Total number of unique values in var_6 : 38599\n",
      "Total number of unique values in var_7 : 103063\n",
      "Total number of unique values in var_8 : 98617\n",
      "Total number of unique values in var_9 : 49417\n",
      "Total number of unique values in var_10 : 128764\n",
      "Total number of unique values in var_11 : 130193\n",
      "Total number of unique values in var_12 : 9561\n",
      "Total number of unique values in var_13 : 115181\n",
      "Total number of unique values in var_14 : 79122\n",
      "Total number of unique values in var_15 : 19810\n",
      "Total number of unique values in var_16 : 86918\n",
      "Total number of unique values in var_17 : 137823\n",
      "Total number of unique values in var_18 : 139515\n",
      "Total number of unique values in var_19 : 144180\n",
      "Total number of unique values in var_20 : 127764\n",
      "Total number of unique values in var_21 : 140062\n",
      "Total number of unique values in var_22 : 90660\n",
      "Total number of unique values in var_23 : 24913\n",
      "Total number of unique values in var_24 : 105101\n",
      "Total number of unique values in var_25 : 14853\n",
      "Total number of unique values in var_26 : 127089\n",
      "Total number of unique values in var_27 : 60185\n",
      "Total number of unique values in var_28 : 35859\n",
      "Total number of unique values in var_29 : 88339\n",
      "Total number of unique values in var_30 : 145977\n",
      "Total number of unique values in var_31 : 77388\n",
      "Total number of unique values in var_32 : 85964\n",
      "Total number of unique values in var_33 : 112239\n",
      "Total number of unique values in var_34 : 25164\n",
      "Total number of unique values in var_35 : 122384\n",
      "Total number of unique values in var_36 : 96404\n",
      "Total number of unique values in var_37 : 79040\n",
      "Total number of unique values in var_38 : 115366\n",
      "Total number of unique values in var_39 : 112674\n",
      "Total number of unique values in var_40 : 141878\n",
      "Total number of unique values in var_41 : 131896\n",
      "Total number of unique values in var_42 : 31592\n",
      "Total number of unique values in var_43 : 15188\n",
      "Total number of unique values in var_44 : 127702\n",
      "Total number of unique values in var_45 : 169968\n",
      "Total number of unique values in var_46 : 93450\n",
      "Total number of unique values in var_47 : 154781\n",
      "Total number of unique values in var_48 : 152039\n",
      "Total number of unique values in var_49 : 140641\n",
      "Total number of unique values in var_50 : 32308\n",
      "Total number of unique values in var_51 : 143455\n",
      "Total number of unique values in var_52 : 121313\n",
      "Total number of unique values in var_53 : 33460\n",
      "Total number of unique values in var_54 : 144776\n",
      "Total number of unique values in var_55 : 128077\n",
      "Total number of unique values in var_56 : 103045\n",
      "Total number of unique values in var_57 : 35545\n",
      "Total number of unique values in var_58 : 113907\n",
      "Total number of unique values in var_59 : 37744\n",
      "Total number of unique values in var_60 : 113763\n",
      "Total number of unique values in var_61 : 159369\n",
      "Total number of unique values in var_62 : 74777\n",
      "Total number of unique values in var_63 : 97098\n",
      "Total number of unique values in var_64 : 59379\n",
      "Total number of unique values in var_65 : 108347\n",
      "Total number of unique values in var_66 : 47722\n",
      "Total number of unique values in var_67 : 137253\n",
      "Total number of unique values in var_68 : 451\n",
      "Total number of unique values in var_69 : 110346\n",
      "Total number of unique values in var_70 : 153193\n",
      "Total number of unique values in var_71 : 13527\n",
      "Total number of unique values in var_72 : 110114\n",
      "Total number of unique values in var_73 : 142582\n",
      "Total number of unique values in var_74 : 161058\n",
      "Total number of unique values in var_75 : 129383\n",
      "Total number of unique values in var_76 : 139317\n",
      "Total number of unique values in var_77 : 106809\n",
      "Total number of unique values in var_78 : 72254\n",
      "Total number of unique values in var_79 : 53212\n",
      "Total number of unique values in var_80 : 136432\n",
      "Total number of unique values in var_81 : 79065\n",
      "Total number of unique values in var_82 : 144829\n",
      "Total number of unique values in var_83 : 144281\n",
      "Total number of unique values in var_84 : 133766\n",
      "Total number of unique values in var_85 : 108437\n",
      "Total number of unique values in var_86 : 140594\n",
      "Total number of unique values in var_87 : 125296\n",
      "Total number of unique values in var_88 : 84918\n",
      "Total number of unique values in var_89 : 103522\n",
      "Total number of unique values in var_90 : 157210\n",
      "Total number of unique values in var_91 : 7962\n",
      "Total number of unique values in var_92 : 110743\n",
      "Total number of unique values in var_93 : 26708\n",
      "Total number of unique values in var_94 : 89146\n",
      "Total number of unique values in var_95 : 29387\n",
      "Total number of unique values in var_96 : 148099\n",
      "Total number of unique values in var_97 : 158739\n",
      "Total number of unique values in var_98 : 33266\n",
      "Total number of unique values in var_99 : 69300\n",
      "Total number of unique values in var_100 : 150727\n",
      "Total number of unique values in var_101 : 122295\n",
      "Total number of unique values in var_102 : 146237\n",
      "Total number of unique values in var_103 : 9376\n",
      "Total number of unique values in var_104 : 72627\n",
      "Total number of unique values in var_105 : 39115\n",
      "Total number of unique values in var_106 : 71065\n",
      "Total number of unique values in var_107 : 137827\n",
      "Total number of unique values in var_108 : 8525\n",
      "Total number of unique values in var_109 : 112172\n",
      "Total number of unique values in var_110 : 106121\n",
      "Total number of unique values in var_111 : 46464\n",
      "Total number of unique values in var_112 : 60482\n",
      "Total number of unique values in var_113 : 116496\n",
      "Total number of unique values in var_114 : 43084\n",
      "Total number of unique values in var_115 : 86729\n",
      "Total number of unique values in var_116 : 63467\n",
      "Total number of unique values in var_117 : 164469\n",
      "Total number of unique values in var_118 : 143667\n",
      "Total number of unique values in var_119 : 112403\n",
      "Total number of unique values in var_120 : 158269\n",
      "Total number of unique values in var_121 : 64695\n",
      "Total number of unique values in var_122 : 121767\n",
      "Total number of unique values in var_123 : 129893\n",
      "Total number of unique values in var_124 : 91022\n",
      "Total number of unique values in var_125 : 16059\n",
      "Total number of unique values in var_126 : 32411\n",
      "Total number of unique values in var_127 : 95710\n",
      "Total number of unique values in var_128 : 98200\n",
      "Total number of unique values in var_129 : 113425\n",
      "Total number of unique values in var_130 : 36638\n",
      "Total number of unique values in var_131 : 21464\n",
      "Total number of unique values in var_132 : 57923\n",
      "Total number of unique values in var_133 : 19236\n",
      "Total number of unique values in var_134 : 131619\n",
      "Total number of unique values in var_135 : 140774\n",
      "Total number of unique values in var_136 : 156615\n",
      "Total number of unique values in var_137 : 144397\n",
      "Total number of unique values in var_138 : 117428\n",
      "Total number of unique values in var_139 : 137294\n",
      "Total number of unique values in var_140 : 121384\n",
      "Total number of unique values in var_141 : 134443\n",
      "Total number of unique values in var_142 : 128613\n",
      "Total number of unique values in var_143 : 94372\n",
      "Total number of unique values in var_144 : 40595\n",
      "Total number of unique values in var_145 : 108526\n",
      "Total number of unique values in var_146 : 84314\n",
      "Total number of unique values in var_147 : 137559\n",
      "Total number of unique values in var_148 : 10608\n",
      "Total number of unique values in var_149 : 148504\n",
      "Total number of unique values in var_150 : 83660\n",
      "Total number of unique values in var_151 : 109667\n",
      "Total number of unique values in var_152 : 95823\n",
      "Total number of unique values in var_153 : 73728\n",
      "Total number of unique values in var_154 : 119342\n",
      "Total number of unique values in var_155 : 127457\n",
      "Total number of unique values in var_156 : 40634\n",
      "Total number of unique values in var_157 : 126534\n",
      "Total number of unique values in var_158 : 144556\n",
      "Total number of unique values in var_159 : 112830\n",
      "Total number of unique values in var_160 : 156274\n",
      "Total number of unique values in var_161 : 11071\n",
      "Total number of unique values in var_162 : 57396\n",
      "Total number of unique values in var_163 : 123168\n",
      "Total number of unique values in var_164 : 122744\n",
      "Total number of unique values in var_165 : 119403\n",
      "Total number of unique values in var_166 : 17902\n",
      "Total number of unique values in var_167 : 140954\n",
      "Total number of unique values in var_168 : 97227\n",
      "Total number of unique values in var_169 : 18242\n"
     ]
    },
    {
     "name": "stdout",
     "output_type": "stream",
     "text": [
      "Total number of unique values in var_170 : 113720\n",
      "Total number of unique values in var_171 : 125914\n",
      "Total number of unique values in var_172 : 143366\n",
      "Total number of unique values in var_173 : 128120\n",
      "Total number of unique values in var_174 : 134945\n",
      "Total number of unique values in var_175 : 92659\n",
      "Total number of unique values in var_176 : 142521\n",
      "Total number of unique values in var_177 : 85720\n",
      "Total number of unique values in var_178 : 145235\n",
      "Total number of unique values in var_179 : 90090\n",
      "Total number of unique values in var_180 : 123477\n",
      "Total number of unique values in var_181 : 56164\n",
      "Total number of unique values in var_182 : 149195\n",
      "Total number of unique values in var_183 : 117529\n",
      "Total number of unique values in var_184 : 145184\n",
      "Total number of unique values in var_185 : 120747\n",
      "Total number of unique values in var_186 : 98060\n",
      "Total number of unique values in var_187 : 157031\n",
      "Total number of unique values in var_188 : 108813\n",
      "Total number of unique values in var_189 : 41764\n",
      "Total number of unique values in var_190 : 114959\n",
      "Total number of unique values in var_191 : 94266\n",
      "Total number of unique values in var_192 : 59065\n",
      "Total number of unique values in var_193 : 110557\n",
      "Total number of unique values in var_194 : 97069\n",
      "Total number of unique values in var_195 : 57870\n",
      "Total number of unique values in var_196 : 125560\n",
      "Total number of unique values in var_197 : 40537\n",
      "Total number of unique values in var_198 : 94153\n",
      "Total number of unique values in var_199 : 149430\n"
     ]
    }
   ],
   "source": [
    "for cl in data.columns[1:]:\n",
    "    print(\"Total number of unique values in {} : {}\".format(cl, data[cl].nunique()))"
   ]
  },
  {
   "cell_type": "markdown",
   "metadata": {},
   "source": [
    "Except for var_68, most features contain thousands of possible values.\n",
    "var_68 contains 451 different vaariables"
   ]
  },
  {
   "cell_type": "code",
   "execution_count": 9,
   "metadata": {},
   "outputs": [],
   "source": [
    "correlation = data.corr() "
   ]
  },
  {
   "cell_type": "code",
   "execution_count": 10,
   "metadata": {},
   "outputs": [
    {
     "data": {
      "text/plain": [
       "target     1.000000\n",
       "var_81     0.080917\n",
       "var_139    0.074080\n",
       "var_12     0.069489\n",
       "var_6      0.066731\n",
       "             ...   \n",
       "var_38     0.000970\n",
       "var_17     0.000864\n",
       "var_30     0.000638\n",
       "var_27     0.000582\n",
       "var_185    0.000053\n",
       "Name: target, Length: 201, dtype: float64"
      ]
     },
     "execution_count": 10,
     "metadata": {},
     "output_type": "execute_result"
    }
   ],
   "source": [
    "abs(correlation['target']).sort_values(ascending=False) # checking correlation between features and target variable"
   ]
  },
  {
   "cell_type": "markdown",
   "metadata": {},
   "source": [
    "The largest correlation value is shown by var_81 feature i.e. 0.080917 "
   ]
  },
  {
   "cell_type": "markdown",
   "metadata": {},
   "source": [
    "# Prepare the Data"
   ]
  },
  {
   "cell_type": "code",
   "execution_count": 5,
   "metadata": {},
   "outputs": [],
   "source": [
    "features = data.drop(['target'], axis = 1)    #separating target variable from features\n",
    "target = data['target']\n",
    "\n",
    "sc = StandardScaler()                        \n",
    "train_features = sc.fit_transform(features)   #performing standardizing of features\n",
    "\n",
    "X_train, X_test, Y_train, Y_test = train_test_split(train_features, target, \n",
    "                                                    test_size= 0.3, random_state = 20)\n",
    "# splitting dataset into train and test set in ratio 70:30"
   ]
  },
  {
   "cell_type": "code",
   "execution_count": 12,
   "metadata": {},
   "outputs": [
    {
     "name": "stderr",
     "output_type": "stream",
     "text": [
      "C:\\Users\\obero\\Anaconda3\\envs\\ce802\\lib\\site-packages\\seaborn\\_decorators.py:43: FutureWarning: Pass the following variable as a keyword arg: x. From version 0.12, the only valid positional argument will be `data`, and passing other arguments without an explicit keyword will result in an error or misinterpretation.\n",
      "  FutureWarning\n"
     ]
    },
    {
     "data": {
      "text/plain": [
       "<AxesSubplot:xlabel='target', ylabel='count'>"
      ]
     },
     "execution_count": 12,
     "metadata": {},
     "output_type": "execute_result"
    },
    {
     "data": {
      "image/png": "[encoded data removed]",
      "text/plain": [
       "<Figure size 432x288 with 1 Axes>"
      ]
     },
     "metadata": {},
     "output_type": "display_data"
    }
   ],
   "source": [
    "sns.set_style('whitegrid')     \n",
    "sns.countplot(target)                #checking distribution of target column."
   ]
  },
  {
   "cell_type": "markdown",
   "metadata": {},
   "source": [
    "The dataset is unbalanced with respect to target column"
   ]
  },
  {
   "cell_type": "markdown",
   "metadata": {},
   "source": [
    "# Feature Engineering"
   ]
  },
  {
   "cell_type": "code",
   "execution_count": 6,
   "metadata": {},
   "outputs": [],
   "source": [
    "from sklearn.decomposition import PCA      #importing pca from sklearn library"
   ]
  },
  {
   "cell_type": "code",
   "execution_count": 7,
   "metadata": {},
   "outputs": [],
   "source": [
    "pca = PCA(0.90)                      # specifying PCA(0.90) means that 90% of the variance would be covered\n",
    "Px = pca.fit_transform(X_train)      # by the principal components\n",
    "Pxtest = pca.transform(X_test)"
   ]
  },
  {
   "cell_type": "code",
   "execution_count": 8,
   "metadata": {},
   "outputs": [
    {
     "data": {
      "text/plain": [
       "179"
      ]
     },
     "execution_count": 8,
     "metadata": {},
     "output_type": "execute_result"
    }
   ],
   "source": [
    "pca.n_components_   "
   ]
  },
  {
   "cell_type": "markdown",
   "metadata": {},
   "source": [
    "179 principal components are needed to explain 90% of variance in the dataset"
   ]
  },
  {
   "cell_type": "markdown",
   "metadata": {},
   "source": [
    "# Models"
   ]
  },
  {
   "cell_type": "code",
   "execution_count": 16,
   "metadata": {},
   "outputs": [],
   "source": [
    "# defining function performance to print confusion matrix and auc of models.\n",
    "\n",
    "def performance(Y_test, pred):\n",
    "    pred_var = [0 if i < 0.5 else 1 for i in pred]\n",
    "    print('Confusion Matrix:')\n",
    "    print(confusion_matrix(Y_test, pred_var)) \n",
    "    fpr, tpr, thresholds = roc_curve(Y_test, pred, pos_label=1)\n",
    "    print('AUC:')\n",
    "    print(auc(fpr, tpr))"
   ]
  },
  {
   "cell_type": "markdown",
   "metadata": {},
   "source": [
    "# Decision Tree Classifier"
   ]
  },
  {
   "cell_type": "code",
   "execution_count": 17,
   "metadata": {},
   "outputs": [
    {
     "data": {
      "text/plain": [
       "DecisionTreeClassifier(class_weight='balanced', max_features=0.7,\n",
       "                       min_samples_leaf=80, random_state=20)"
      ]
     },
     "execution_count": 17,
     "metadata": {},
     "output_type": "execute_result"
    }
   ],
   "source": [
    "# Defining Parameters For Model\n",
    "tree = DecisionTreeClassifier(class_weight='balanced', random_state = 20, \n",
    "                                  max_features = 0.7, min_samples_leaf = 80)\n",
    "tree.fit(Px, Y_train)     # training the model with train dataset"
   ]
  },
  {
   "cell_type": "code",
   "execution_count": 19,
   "metadata": {},
   "outputs": [
    {
     "name": "stdout",
     "output_type": "stream",
     "text": [
      "Confusion Matrix:\n",
      "[[40939 13039]\n",
      " [ 1698  4324]]\n",
      "AUC:\n",
      "0.8068976546763169\n"
     ]
    }
   ],
   "source": [
    "tree_preds = tree.predict_proba(Pxtest)[:, 1]   #predicting test dataset to evaluate the model\n",
    "performance(Y_test, tree_preds)                #passing parameters to performance function"
   ]
  },
  {
   "cell_type": "code",
   "execution_count": 20,
   "metadata": {},
   "outputs": [
    {
     "name": "stdout",
     "output_type": "stream",
     "text": [
      "var_ 0, Score: 0.72652\n",
      "var_ 1, Score: 0.00321\n",
      "var_ 2, Score: 0.00097\n",
      "var_ 3, Score: 0.00029\n",
      "var_ 4, Score: 0.00224\n",
      "var_ 5, Score: 0.00156\n",
      "var_ 6, Score: 0.00116\n",
      "var_ 7, Score: 0.00154\n",
      "var_ 8, Score: 0.00062\n",
      "var_ 9, Score: 0.00063\n",
      "var_ 10, Score: 0.00146\n",
      "var_ 11, Score: 0.00181\n",
      "var_ 12, Score: 0.00100\n",
      "var_ 13, Score: 0.00075\n",
      "var_ 14, Score: 0.00143\n",
      "var_ 15, Score: 0.00148\n",
      "var_ 16, Score: 0.00252\n",
      "var_ 17, Score: 0.00072\n",
      "var_ 18, Score: 0.00146\n",
      "var_ 19, Score: 0.00061\n",
      "var_ 20, Score: 0.00093\n",
      "var_ 21, Score: 0.00189\n",
      "var_ 22, Score: 0.00202\n",
      "var_ 23, Score: 0.00129\n",
      "var_ 24, Score: 0.00178\n",
      "var_ 25, Score: 0.00108\n",
      "var_ 26, Score: 0.00297\n",
      "var_ 27, Score: 0.00019\n",
      "var_ 28, Score: 0.00270\n",
      "var_ 29, Score: 0.00149\n",
      "var_ 30, Score: 0.00123\n",
      "var_ 31, Score: 0.00135\n",
      "var_ 32, Score: 0.00095\n",
      "var_ 33, Score: 0.00338\n",
      "var_ 34, Score: 0.00396\n",
      "var_ 35, Score: 0.00218\n",
      "var_ 36, Score: 0.00092\n",
      "var_ 37, Score: 0.00319\n",
      "var_ 38, Score: 0.00246\n",
      "var_ 39, Score: 0.00121\n",
      "var_ 40, Score: 0.00192\n",
      "var_ 41, Score: 0.00268\n",
      "var_ 42, Score: 0.00197\n",
      "var_ 43, Score: 0.00091\n",
      "var_ 44, Score: 0.00002\n",
      "var_ 45, Score: 0.00063\n",
      "var_ 46, Score: 0.00130\n",
      "var_ 47, Score: 0.00098\n",
      "var_ 48, Score: 0.00081\n",
      "var_ 49, Score: 0.00082\n",
      "var_ 50, Score: 0.00049\n",
      "var_ 51, Score: 0.00128\n",
      "var_ 52, Score: 0.00303\n",
      "var_ 53, Score: 0.00054\n",
      "var_ 54, Score: 0.00203\n",
      "var_ 55, Score: 0.00179\n",
      "var_ 56, Score: 0.00141\n",
      "var_ 57, Score: 0.00075\n",
      "var_ 58, Score: 0.00158\n",
      "var_ 59, Score: 0.00119\n",
      "var_ 60, Score: 0.00168\n",
      "var_ 61, Score: 0.00143\n",
      "var_ 62, Score: 0.00167\n",
      "var_ 63, Score: 0.00120\n",
      "var_ 64, Score: 0.00148\n",
      "var_ 65, Score: 0.00166\n",
      "var_ 66, Score: 0.00232\n",
      "var_ 67, Score: 0.00164\n",
      "var_ 68, Score: 0.00063\n",
      "var_ 69, Score: 0.00183\n",
      "var_ 70, Score: 0.00135\n",
      "var_ 71, Score: 0.00156\n",
      "var_ 72, Score: 0.00260\n",
      "var_ 73, Score: 0.00099\n",
      "var_ 74, Score: 0.00104\n",
      "var_ 75, Score: 0.00100\n",
      "var_ 76, Score: 0.00141\n",
      "var_ 77, Score: 0.00131\n",
      "var_ 78, Score: 0.00056\n",
      "var_ 79, Score: 0.00165\n",
      "var_ 80, Score: 0.00131\n",
      "var_ 81, Score: 0.00005\n",
      "var_ 82, Score: 0.00296\n",
      "var_ 83, Score: 0.00098\n",
      "var_ 84, Score: 0.00098\n",
      "var_ 85, Score: 0.00173\n",
      "var_ 86, Score: 0.00397\n",
      "var_ 87, Score: 0.00185\n",
      "var_ 88, Score: 0.00133\n",
      "var_ 89, Score: 0.00081\n",
      "var_ 90, Score: 0.00122\n",
      "var_ 91, Score: 0.00209\n",
      "var_ 92, Score: 0.00183\n",
      "var_ 93, Score: 0.00097\n",
      "var_ 94, Score: 0.00232\n",
      "var_ 95, Score: 0.00125\n",
      "var_ 96, Score: 0.00072\n",
      "var_ 97, Score: 0.00049\n",
      "var_ 98, Score: 0.00126\n",
      "var_ 99, Score: 0.00009\n",
      "var_ 100, Score: 0.00209\n",
      "var_ 101, Score: 0.00111\n",
      "var_ 102, Score: 0.00131\n",
      "var_ 103, Score: 0.00274\n",
      "var_ 104, Score: 0.00056\n",
      "var_ 105, Score: 0.00243\n",
      "var_ 106, Score: 0.00171\n",
      "var_ 107, Score: 0.00270\n",
      "var_ 108, Score: 0.00302\n",
      "var_ 109, Score: 0.00129\n",
      "var_ 110, Score: 0.00080\n",
      "var_ 111, Score: 0.00035\n",
      "var_ 112, Score: 0.00136\n",
      "var_ 113, Score: 0.00148\n",
      "var_ 114, Score: 0.00071\n",
      "var_ 115, Score: 0.00071\n",
      "var_ 116, Score: 0.00089\n",
      "var_ 117, Score: 0.00277\n",
      "var_ 118, Score: 0.00155\n",
      "var_ 119, Score: 0.00129\n",
      "var_ 120, Score: 0.00114\n",
      "var_ 121, Score: 0.00174\n",
      "var_ 122, Score: 0.00249\n",
      "var_ 123, Score: 0.00075\n",
      "var_ 124, Score: 0.00278\n",
      "var_ 125, Score: 0.00111\n",
      "var_ 126, Score: 0.00109\n",
      "var_ 127, Score: 0.00251\n",
      "var_ 128, Score: 0.00156\n",
      "var_ 129, Score: 0.00087\n",
      "var_ 130, Score: 0.00080\n",
      "var_ 131, Score: 0.00174\n",
      "var_ 132, Score: 0.00070\n",
      "var_ 133, Score: 0.00065\n",
      "var_ 134, Score: 0.00180\n",
      "var_ 135, Score: 0.00070\n",
      "var_ 136, Score: 0.00176\n",
      "var_ 137, Score: 0.00130\n",
      "var_ 138, Score: 0.00172\n",
      "var_ 139, Score: 0.00317\n",
      "var_ 140, Score: 0.00069\n",
      "var_ 141, Score: 0.00145\n",
      "var_ 142, Score: 0.00280\n",
      "var_ 143, Score: 0.00277\n",
      "var_ 144, Score: 0.00248\n",
      "var_ 145, Score: 0.00051\n",
      "var_ 146, Score: 0.00065\n",
      "var_ 147, Score: 0.00272\n",
      "var_ 148, Score: 0.00216\n",
      "var_ 149, Score: 0.00174\n",
      "var_ 150, Score: 0.00087\n",
      "var_ 151, Score: 0.00086\n",
      "var_ 152, Score: 0.00215\n",
      "var_ 153, Score: 0.00171\n",
      "var_ 154, Score: 0.00169\n",
      "var_ 155, Score: 0.00079\n",
      "var_ 156, Score: 0.00178\n",
      "var_ 157, Score: 0.00025\n",
      "var_ 158, Score: 0.00167\n",
      "var_ 159, Score: 0.00256\n",
      "var_ 160, Score: 0.00272\n",
      "var_ 161, Score: 0.00235\n",
      "var_ 162, Score: 0.00227\n",
      "var_ 163, Score: 0.00087\n",
      "var_ 164, Score: 0.00199\n",
      "var_ 165, Score: 0.00066\n",
      "var_ 166, Score: 0.00208\n",
      "var_ 167, Score: 0.00129\n",
      "var_ 168, Score: 0.00119\n",
      "var_ 169, Score: 0.00261\n",
      "var_ 170, Score: 0.00125\n",
      "var_ 171, Score: 0.00178\n",
      "var_ 172, Score: 0.00103\n",
      "var_ 173, Score: 0.00206\n",
      "var_ 174, Score: 0.00242\n",
      "var_ 175, Score: 0.00100\n",
      "var_ 176, Score: 0.00231\n",
      "var_ 177, Score: 0.00228\n",
      "var_ 178, Score: 0.00179\n"
     ]
    }
   ],
   "source": [
    "imp = tree.feature_importances_         #get importances of the variables\n",
    "for i,v in enumerate(imp):              \n",
    "    print('var_ %0d, Score: %.5f' % (i,v))"
   ]
  },
  {
   "cell_type": "code",
   "execution_count": null,
   "metadata": {},
   "outputs": [],
   "source": []
  },
  {
   "cell_type": "markdown",
   "metadata": {},
   "source": [
    "# Logistic Regression"
   ]
  },
  {
   "cell_type": "code",
   "execution_count": 21,
   "metadata": {},
   "outputs": [],
   "source": [
    "# Defining model of Logistic Regression with parameters C and class_weight\n",
    "logist = LogisticRegression(C=0.001, class_weight='balanced')\n",
    "\n",
    "# Fitting the training data on the defined model\n",
    "logist.fit(Px, Y_train)\n",
    "logist_pred = logist.predict_proba(Pxtest)[:,1]"
   ]
  },
  {
   "cell_type": "code",
   "execution_count": 22,
   "metadata": {},
   "outputs": [
    {
     "name": "stdout",
     "output_type": "stream",
     "text": [
      "Confusion Matrix:\n",
      "[[42321 11657]\n",
      " [ 1354  4668]]\n",
      "AUC:\n",
      "0.8583952656259494\n"
     ]
    }
   ],
   "source": [
    "performance(Y_test, logist_pred)    #passing parameters to performance function"
   ]
  },
  {
   "cell_type": "markdown",
   "metadata": {},
   "source": [
    "# SVM"
   ]
  },
  {
   "cell_type": "code",
   "execution_count": 23,
   "metadata": {},
   "outputs": [],
   "source": [
    "from sklearn import svm\n",
    "# Defining model of SVM with parameters C and gamma\n",
    "Svm = svm.SVC(C =  1, gamma =  0.1,probability=True,verbose=True)"
   ]
  },
  {
   "cell_type": "code",
   "execution_count": null,
   "metadata": {},
   "outputs": [
    {
     "name": "stdout",
     "output_type": "stream",
     "text": [
      "[LibSVM]"
     ]
    }
   ],
   "source": [
    "Svm.fit(Px,Y_train)   # Fitting the training data on the defined model"
   ]
  },
  {
   "cell_type": "code",
   "execution_count": null,
   "metadata": {},
   "outputs": [],
   "source": [
    "Svm_preds = Svm.predict_proba(X_test)[:, 1]\n",
    "performance(Y_test, Svm_preds)           #passing parameters to performance function"
   ]
  },
  {
   "cell_type": "markdown",
   "metadata": {},
   "source": [
    "# MLP"
   ]
  },
  {
   "cell_type": "code",
   "execution_count": 6,
   "metadata": {},
   "outputs": [
    {
     "name": "stderr",
     "output_type": "stream",
     "text": [
      "Using TensorFlow backend.\n"
     ]
    }
   ],
   "source": [
    "import keras\n",
    "from keras.models import Sequential     #importing sequential from keras library\n",
    "from keras.layers import Dense, Dropout"
   ]
  },
  {
   "cell_type": "code",
   "execution_count": 10,
   "metadata": {},
   "outputs": [],
   "source": [
    "model = Sequential()       #defining sequential model"
   ]
  },
  {
   "cell_type": "code",
   "execution_count": 11,
   "metadata": {},
   "outputs": [],
   "source": [
    "# adding mlp layers\n",
    "model.add(Dense(60,kernel_initializer='normal', activation='relu', input_dim=179))\n",
    "model.add(Dense(1, kernel_initializer='normal', activation= 'relu'))\n",
    "model.compile(optimizer='adam', loss='binary_crossentropy', metrics=['accuracy'])"
   ]
  },
  {
   "cell_type": "code",
   "execution_count": 12,
   "metadata": {},
   "outputs": [
    {
     "data": {
      "text/plain": [
       "[<keras.layers.core.Dense at 0x2cb5c62f8c8>,\n",
       " <keras.layers.core.Dense at 0x2cb5c62f888>]"
      ]
     },
     "execution_count": 12,
     "metadata": {},
     "output_type": "execute_result"
    }
   ],
   "source": [
    "model.layers "
   ]
  },
  {
   "cell_type": "code",
   "execution_count": 13,
   "metadata": {},
   "outputs": [
    {
     "name": "stdout",
     "output_type": "stream",
     "text": [
      "Model: \"sequential_1\"\n",
      "_________________________________________________________________\n",
      "Layer (type)                 Output Shape              Param #   \n",
      "=================================================================\n",
      "dense_1 (Dense)              (None, 60)                10800     \n",
      "_________________________________________________________________\n",
      "dense_2 (Dense)              (None, 1)                 61        \n",
      "=================================================================\n",
      "Total params: 10,861\n",
      "Trainable params: 10,861\n",
      "Non-trainable params: 0\n",
      "_________________________________________________________________\n"
     ]
    }
   ],
   "source": [
    "model.summary()  #summary of MLP model"
   ]
  },
  {
   "cell_type": "code",
   "execution_count": 14,
   "metadata": {},
   "outputs": [
    {
     "name": "stdout",
     "output_type": "stream",
     "text": [
      "Train on 140000 samples, validate on 60000 samples\n",
      "Epoch 1/10\n",
      "140000/140000 [==============================] - 9s 62us/step - loss: 0.3353 - accuracy: 0.9046 - val_loss: 0.3156 - val_accuracy: 0.9061\n",
      "Epoch 2/10\n",
      "140000/140000 [==============================] - 9s 61us/step - loss: 0.3868 - accuracy: 0.8860 - val_loss: 0.3509 - val_accuracy: 0.90820.3868 - accuracy\n",
      "Epoch 3/10\n",
      "140000/140000 [==============================] - 9s 61us/step - loss: 0.3489 - accuracy: 0.9018 - val_loss: 0.3591 - val_accuracy: 0.8866- ETA: 4s - l - ETA: 3s - loss: 0.3475 - \n",
      "Epoch 4/10\n",
      "140000/140000 [==============================] - 9s 61us/step - loss: 0.3272 - accuracy: 0.9050 - val_loss: 0.3040 - val_accuracy: 0.9103: 0.3300 - ac - ETA: 0s - loss: 0.3289 - accuracy - ETA: 0s - loss: 0.3283 - accuracy\n",
      "Epoch 5/10\n",
      "140000/140000 [==============================] - 9s 62us/step - loss: 0.3827 - accuracy: 0.9006 - val_loss: 0.4186 - val_accuracy: 0.8986\n",
      "Epoch 6/10\n",
      "140000/140000 [==============================] - 9s 65us/step - loss: 0.3703 - accuracy: 0.9022 - val_loss: 0.3922 - val_accuracy: 0.8969acy: 0.90 - ETA: 3s - loss: 0.3830 - accu - ETA: 3s - loss: 0.3759 - ac - ETA: 3s - l - ETA: 1s - loss: 0.3647  - ETA: 0s - loss: 0 - ETA: 0s - loss: 0.3686 - ac\n",
      "Epoch 7/10\n",
      "140000/140000 [==============================] - 8s 59us/step - loss: 0.3975 - accuracy: 0.8857 - val_loss: 0.4697 - val_accuracy: 0.88393989 - accuracy: 0. - ETA: 1s - - ETA: 0s - loss: 0.3922 - accura\n",
      "Epoch 8/10\n",
      "140000/140000 [==============================] - 8s 58us/step - loss: 0.3579 - accuracy: 0.8972 - val_loss: 0.3557 - val_accuracy: 0.9011y\n",
      "Epoch 9/10\n",
      "140000/140000 [==============================] - 9s 66us/step - loss: 0.3748 - accuracy: 0.8978 - val_loss: 0.4152 - val_accuracy: 0.8924\n",
      "Epoch 10/10\n",
      "140000/140000 [==============================] - 9s 62us/step - loss: 0.4245 - accuracy: 0.8840 - val_loss: 0.3994 - val_accuracy: 0.8751\n"
     ]
    },
    {
     "data": {
      "text/plain": [
       "<keras.callbacks.callbacks.History at 0x2cb5d026cc8>"
      ]
     },
     "execution_count": 14,
     "metadata": {},
     "output_type": "execute_result"
    }
   ],
   "source": [
    "model.fit(Px, Y_train, epochs=10, validation_data=(Pxtest, Y_test)) #fitting data on train set and validating on test set."
   ]
  },
  {
   "cell_type": "code",
   "execution_count": 15,
   "metadata": {},
   "outputs": [
    {
     "name": "stdout",
     "output_type": "stream",
     "text": [
      "Test loss: 0.39939817755222323\n",
      "Test accuracy: 0.8750666379928589\n"
     ]
    }
   ],
   "source": [
    "score = model.evaluate(Pxtest, Y_test, verbose=0) \n",
    "print('Test loss:', score[0])\n",
    "print('Test accuracy:', score[1])  # printing test accuracy and test loss"
   ]
  },
  {
   "cell_type": "markdown",
   "metadata": {},
   "source": [
    "# CNN"
   ]
  },
  {
   "cell_type": "code",
   "execution_count": 7,
   "metadata": {},
   "outputs": [],
   "source": [
    "from pyDeepInsight import ImageTransformer, LogScaler  # importing image transformer from Deepinsight python package \n",
    "from matplotlib import pyplot as plt"
   ]
  },
  {
   "cell_type": "code",
   "execution_count": 8,
   "metadata": {},
   "outputs": [],
   "source": [
    "X1_train, X2_test, Y1_train, Y2_test = train_test_split(features, target, \n",
    "                                                    test_size= 0.3, random_state = 21)\n",
    "# splitting dataset into train and test set in ratio 70:30"
   ]
  },
  {
   "cell_type": "code",
   "execution_count": 9,
   "metadata": {},
   "outputs": [],
   "source": [
    "ln = LogScaler()                       #defining logscaler\n",
    "X_train_norm = ln.fit_transform(X1_train)   #normalizing dataset between 0 and 1\n",
    "X_test_norm = ln.fit_transform(X2_test)"
   ]
  },
  {
   "cell_type": "code",
   "execution_count": 10,
   "metadata": {},
   "outputs": [],
   "source": [
    "it = ImageTransformer(feature_extractor='tsne',            #initializing image transformer\n",
    "                      pixels=50, random_state=22, \n",
    "                      n_jobs=-1)"
   ]
  },
  {
   "cell_type": "code",
   "execution_count": 20,
   "metadata": {},
   "outputs": [
    {
     "data": {
      "image/png": "[encoded data removed]",
      "text/plain": [
       "<Figure size 360x360 with 1 Axes>"
      ]
     },
     "metadata": {
      "needs_background": "light"
     },
     "output_type": "display_data"
    },
    {
     "data": {
      "text/plain": [
       "<pyDeepInsight.image_transformer.ImageTransformer at 0x2cb5d121b08>"
      ]
     },
     "execution_count": 20,
     "metadata": {},
     "output_type": "execute_result"
    }
   ],
   "source": [
    "plt.figure(figsize=(5, 5))\n",
    "it.fit(X_train_norm, plot=True)"
   ]
  },
  {
   "cell_type": "markdown",
   "metadata": {},
   "source": [
    "On the basis of the training data, train the image transformer. When parameter plot=True is used, a plot is generated that displays the reduced features represented by blue points, all features(red), and rectangle in green represents minimum bounding before rotation."
   ]
  },
  {
   "cell_type": "code",
   "execution_count": 36,
   "metadata": {},
   "outputs": [
    {
     "data": {
      "image/png": "[encoded data removed]",
      "text/plain": [
       "<Figure size 720x504 with 2 Axes>"
      ]
     },
     "metadata": {},
     "output_type": "display_data"
    }
   ],
   "source": [
    "fdm = it.feature_density_matrix()\n",
    "fdm[fdm == 0] = np.nan\n",
    "\n",
    "plt.figure(figsize=(10, 7))\n",
    "\n",
    "ax = sns.heatmap(fdm, cmap=\"viridis\", linewidths=0.01, \n",
    "                 linecolor=\"lightgrey\", square=True)\n",
    "for _, spine in ax.spines.items():\n",
    "    spine.set_visible(True)"
   ]
  },
  {
   "cell_type": "markdown",
   "metadata": {},
   "source": [
    "To see total feature overlap, the trained transformer's feature density matrix can be used."
   ]
  },
  {
   "cell_type": "code",
   "execution_count": 37,
   "metadata": {},
   "outputs": [
    {
     "data": {
      "image/png": "[encoded data removed]",
      "text/plain": [
       "<Figure size 1800x504 with 4 Axes>"
      ]
     },
     "metadata": {},
     "output_type": "display_data"
    }
   ],
   "source": [
    "px_sizes = [25, (25, 50), 50, 100]\n",
    "\n",
    "fig, ax = plt.subplots(1, len(px_sizes), figsize=(25, 7))\n",
    "for ix, px in enumerate(px_sizes):\n",
    "    it.pixels = px\n",
    "    fdm = it.feature_density_matrix()\n",
    "    fdm[fdm == 0] = np.nan\n",
    "    cax = sns.heatmap(fdm, cmap=\"viridis\", linewidth=0.01, \n",
    "                      linecolor=\"lightgrey\", square=True, \n",
    "                      ax=ax[ix], cbar=False)\n",
    "    cax.set_title('Dim {} x {}'.format(*it.pixels))\n",
    "    for _, spine in cax.spines.items():\n",
    "        spine.set_visible(True)\n",
    "\n",
    "it.pixels = 50"
   ]
  },
  {
   "cell_type": "markdown",
   "metadata": {},
   "source": [
    "it's easy to update pixel size of the images"
   ]
  },
  {
   "cell_type": "code",
   "execution_count": 11,
   "metadata": {},
   "outputs": [],
   "source": [
    "mat_train = it.fit_transform(X_train_norm) #the trained image transformer is then used transform data to image(tensors)"
   ]
  },
  {
   "cell_type": "code",
   "execution_count": 12,
   "metadata": {},
   "outputs": [],
   "source": [
    "mat_test = it.fit_transform(X_test_norm) #the trained image transformer is then used transform test data to image(tensors)"
   ]
  },
  {
   "cell_type": "code",
   "execution_count": 13,
   "metadata": {},
   "outputs": [],
   "source": [
    "from keras.layers import Flatten          #importing CNN layers from keras library\n",
    "from keras.layers import Conv2D, MaxPooling2D"
   ]
  },
  {
   "cell_type": "code",
   "execution_count": 14,
   "metadata": {},
   "outputs": [],
   "source": [
    "#Defining parameters of CNN\n",
    "batch_size = 128\n",
    "num_classes = 2\n",
    "epochs = 10\n",
    "\n",
    "# input image dimensions\n",
    "img_rows, img_cols = 50, 50\n",
    "\n",
    "from keras.utils.np_utils import to_categorical\n",
    "\n",
    "Y_train = to_categorical(Y_train, num_classes)\n",
    "Y_test =  to_categorical(Y_test, num_classes)"
   ]
  },
  {
   "cell_type": "code",
   "execution_count": 15,
   "metadata": {},
   "outputs": [],
   "source": [
    "model = Sequential()                #defining sequential model\n",
    "model.add(Conv2D(8, kernel_size=(3, 3),          # stacking layers in CNN architecture\n",
    "                 activation='relu',\n",
    "                 input_shape=(50,50,3)))\n",
    "model.add(Conv2D(4, (3, 3), activation='relu'))\n",
    "model.add(MaxPooling2D(pool_size=(2, 2)))        # adding maxpooling layer\n",
    "model.add(Dropout(0.25))                         \n",
    "model.add(Flatten())\n",
    "model.add(Dense(1, activation='relu'))          # adding fully connected layer\n",
    "model.add(Dropout(0.5))\n",
    "model.add(Dense(num_classes, activation='softmax'))"
   ]
  },
  {
   "cell_type": "code",
   "execution_count": 16,
   "metadata": {},
   "outputs": [
    {
     "name": "stdout",
     "output_type": "stream",
     "text": [
      "Model: \"sequential_1\"\n",
      "_________________________________________________________________\n",
      "Layer (type)                 Output Shape              Param #   \n",
      "=================================================================\n",
      "conv2d_1 (Conv2D)            (None, 48, 48, 8)         224       \n",
      "_________________________________________________________________\n",
      "conv2d_2 (Conv2D)            (None, 46, 46, 4)         292       \n",
      "_________________________________________________________________\n",
      "max_pooling2d_1 (MaxPooling2 (None, 23, 23, 4)         0         \n",
      "_________________________________________________________________\n",
      "dropout_1 (Dropout)          (None, 23, 23, 4)         0         \n",
      "_________________________________________________________________\n",
      "flatten_1 (Flatten)          (None, 2116)              0         \n",
      "_________________________________________________________________\n",
      "dense_1 (Dense)              (None, 1)                 2117      \n",
      "_________________________________________________________________\n",
      "dropout_2 (Dropout)          (None, 1)                 0         \n",
      "_________________________________________________________________\n",
      "dense_2 (Dense)              (None, 2)                 4         \n",
      "=================================================================\n",
      "Total params: 2,637\n",
      "Trainable params: 2,637\n",
      "Non-trainable params: 0\n",
      "_________________________________________________________________\n"
     ]
    }
   ],
   "source": [
    "model.summary()   #summary of CNN model architecture"
   ]
  },
  {
   "cell_type": "code",
   "execution_count": 17,
   "metadata": {},
   "outputs": [
    {
     "name": "stdout",
     "output_type": "stream",
     "text": [
      "Train on 140000 samples, validate on 60000 samples\n",
      "Epoch 1/10\n",
      "140000/140000 [==============================] - 192s 1ms/step - loss: 0.4097 - accuracy: 0.8994 - val_loss: 0.3265 - val_accuracy: 0.8996\n",
      "Epoch 2/10\n",
      "140000/140000 [==============================] - 196s 1ms/step - loss: 0.3263 - accuracy: 0.8995 - val_loss: 0.3259 - val_accuracy: 0.8996\n",
      "Epoch 3/10\n",
      "140000/140000 [==============================] - 199s 1ms/step - loss: 0.3263 - accuracy: 0.8995 - val_loss: 0.3259 - val_accuracy: 0.8996\n",
      "Epoch 4/10\n",
      "140000/140000 [==============================] - 207s 1ms/step - loss: 0.3263 - accuracy: 0.8995 - val_loss: 0.3259 - val_accuracy: 0.8996\n",
      "Epoch 5/10\n",
      "140000/140000 [==============================] - 200s 1ms/step - loss: 0.3263 - accuracy: 0.8995 - val_loss: 0.3259 - val_accuracy: 0.8996\n",
      "Epoch 6/10\n",
      "140000/140000 [==============================] - 195s 1ms/step - loss: 0.3263 - accuracy: 0.8995 - val_loss: 0.3259 - val_accuracy: 0.8996\n",
      "Epoch 7/10\n",
      "140000/140000 [==============================] - 192s 1ms/step - loss: 0.3263 - accuracy: 0.8995 - val_loss: 0.3259 - val_accuracy: 0.8996\n",
      "Epoch 8/10\n",
      "140000/140000 [==============================] - 192s 1ms/step - loss: 0.3263 - accuracy: 0.8995 - val_loss: 0.3259 - val_accuracy: 0.8996\n",
      "Epoch 9/10\n",
      "140000/140000 [==============================] - 283s 2ms/step - loss: 0.3263 - accuracy: 0.8995 - val_loss: 0.3259 - val_accuracy: 0.8996\n",
      "Epoch 10/10\n",
      "140000/140000 [==============================] - 295s 2ms/step - loss: 0.3263 - accuracy: 0.8995 - val_loss: 0.3259 - val_accuracy: 0.8996\n",
      "Test loss: 0.32588963967959084\n",
      "Test accuracy: 0.8996333479881287\n"
     ]
    }
   ],
   "source": [
    "# defining loss,optimizer and metrics to be used for evaluating the model.\n",
    "model.compile(loss=keras.losses.categorical_crossentropy,\n",
    "              optimizer=keras.optimizers.Adadelta(),       \n",
    "              metrics=['accuracy'])\n",
    "\n",
    "# fitting the defined CNN model on train data and validating on test data\n",
    "model.fit(mat_train, Y_train,\n",
    "          batch_size=batch_size,\n",
    "          epochs=epochs,\n",
    "          verbose=1,\n",
    "          validation_data=(mat_test, Y_test))\n",
    "score = model.evaluate(mat_test, Y_test, verbose=0)\n",
    "print('Test loss:', score[0])\n",
    "print('Test accuracy:', score[1])      #printing test loss and accuracy"
   ]
  }
 ],
 "metadata": {
  "kernelspec": {
   "display_name": "Python 3",
   "language": "python",
   "name": "python3"
  },
  "language_info": {
   "codemirror_mode": {
    "name": "ipython",
    "version": 3
   },
   "file_extension": ".py",
   "mimetype": "text/x-python",
   "name": "python",
   "nbconvert_exporter": "python",
   "pygments_lexer": "ipython3",
   "version": "3.7.10"
  }
 },
 "nbformat": 4,
 "nbformat_minor": 4
}
